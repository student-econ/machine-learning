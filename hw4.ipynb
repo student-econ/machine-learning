{
 "cells": [
  {
   "cell_type": "code",
   "execution_count": 64,
   "metadata": {},
   "outputs": [],
   "source": [
    "import pandas\n",
    "import numpy as np\n",
    "from sklearn.linear_model import LinearRegression\n",
    "from sklearn.model_selection import train_test_split\n",
    "from sklearn.metrics import mean_absolute_error, mean_squared_error, median_absolute_error, r2_score\n",
    "import matplotlib.pyplot as plt\n",
    "from scipy import stats\n",
    "from scipy.stats import shapiro"
   ]
  },
  {
   "cell_type": "code",
   "execution_count": 65,
   "metadata": {},
   "outputs": [],
   "source": [
    "def norm (data):\n",
    "    stat, p = shapiro(data)\n",
    "    if p<0.05:\n",
    "        verdict=\"Not normal\"\n",
    "    else:\n",
    "        verdict=\"Normal\"\n",
    "    print(\"Statistics =\",\"{:.5f}\".format(stat),\"\\n\" ,\"P-value =\", \"{:.5f}\".format(p), \"\\n\", verdict)\n",
    "    data.hist()"
   ]
  },
  {
   "cell_type": "code",
   "execution_count": 66,
   "metadata": {},
   "outputs": [],
   "source": [
    "def log(data):\n",
    "    stat, p = shapiro(np.log(data))\n",
    "    if p<0.05:\n",
    "        verdict=\"Not normal\"\n",
    "    else:\n",
    "        verdict=\"Normal\"\n",
    "    print(\"Statistics =\",\"{:.5f}\".format(stat),\"\\n\" ,\"P-value =\", \"{:.5f}\".format(p), \"\\n\", verdict)\n",
    "    np.log(data).hist(density=1)"
   ]
  },
  {
   "cell_type": "code",
   "execution_count": 67,
   "metadata": {},
   "outputs": [],
   "source": [
    "def corr(data):\n",
    "    X = data.drop(['price'], axis=1)\n",
    "    y = data['price']\n",
    "    return X.corr()"
   ]
  },
  {
   "cell_type": "code",
   "execution_count": 103,
   "metadata": {},
   "outputs": [],
   "source": [
    "def regression_coef(data,flag=False):\n",
    "    X = data.drop(['price'], axis=1)\n",
    "    y = data['price']\n",
    "    X_train, X_test, y_train, y_test = train_test_split(X, y, test_size=0.3, random_state=0)\n",
    "    model = LinearRegression()\n",
    "    model.fit(X_train, y_train)\n",
    "    print(\"R^2 =\",\"{:.2f}\".format(model.score(X_train, y_train)))\n",
    "    \n",
    "    coef = pandas.DataFrame(zip(['intercept'] + X.columns.tolist(), [model.intercept_] + model.coef_.tolist()),\n",
    "                    columns=['predictor', 'coef'])\n",
    "    X1 = np.append(np.ones((len(X),1)), X, axis=1)\n",
    "    b = np.append(model.intercept_, model.coef_)\n",
    "    MSE = np.sum((model.predict(X) - y) ** 2, axis=0) / float(X.shape[0] - X.shape[1])\n",
    "    var_b = MSE * (np.linalg.inv(np.dot(X1.T, X1)).diagonal())\n",
    "    sd_b = np.sqrt(var_b)\n",
    "    t = b / sd_b\n",
    "    coef['pvalue'] = [\"{:.5f}\".format(2 * (1 - stats.t.cdf(np.abs(i), (len(X1) - 1)))) for i in t]\n",
    "    print(coef) \n",
    "    if flag:\n",
    "        return X_train, X_test, y_train, y_test, model"
   ]
  },
  {
   "cell_type": "code",
   "execution_count": 69,
   "metadata": {},
   "outputs": [
    {
     "name": "stderr",
     "output_type": "stream",
     "text": [
      "/srv/conda/envs/notebook/lib/python3.7/site-packages/IPython/core/interactiveshell.py:3049: DtypeWarning: Columns (0,2,4,6,9,10) have mixed types. Specify dtype option on import or set low_memory=False.\n",
      "  interactivity=interactivity, compiler=compiler, result=result)\n"
     ]
    }
   ],
   "source": [
    "data = pandas.read_csv('auto.csv',sep=';', encoding=\"cp1252\")\n",
    "#data.info()"
   ]
  },
  {
   "cell_type": "code",
   "execution_count": 70,
   "metadata": {},
   "outputs": [],
   "source": [
    "data=data.iloc[:,1:11]"
   ]
  },
  {
   "cell_type": "code",
   "execution_count": 71,
   "metadata": {},
   "outputs": [],
   "source": [
    "list1=[]\n",
    "for columns in data:\n",
    "    if data[columns].dtype==\"O\":\n",
    "        list1.append(columns)"
   ]
  },
  {
   "cell_type": "code",
   "execution_count": 72,
   "metadata": {},
   "outputs": [
    {
     "data": {
      "text/plain": [
       "(151, 10)"
      ]
     },
     "execution_count": 72,
     "metadata": {},
     "output_type": "execute_result"
    }
   ],
   "source": [
    "data.dropna(subset=list1, inplace=True)\n",
    "data=data[data['price']> 1]\n",
    "data.shape"
   ]
  },
  {
   "cell_type": "code",
   "execution_count": 73,
   "metadata": {},
   "outputs": [
    {
     "name": "stdout",
     "output_type": "stream",
     "text": [
      "{'kleinwagen': 0, 'limousine': 1, 'cabrio': 2, 'kombi': 3, 'suv': 4, 'bus': 5, 'coupe': 6, 'andere': 7}\n",
      "{'manuell': 0, 'automatik': 1}\n",
      "{'golf': 0, 'fabia': 1, '3er': 2, '2_reihe': 3, '3_reihe': 4, 'passat': 5, 'navara': 6, 'twingo': 7, 'c_max': 8, 'a_klasse': 9, 'scirocco': 10, '5er': 11, 'arosa': 12, 'andere': 13, 'civic': 14, 'transporter': 15, 'punto': 16, 'e_klasse': 17, 'one': 18, 'clio': 19, '1er': 20, 'b_klasse': 21, 'astra': 22, 'fortwo': 23, 'a8': 24, 'jetta': 25, 'polo': 26, 'fiesta': 27, 'c_klasse': 28, 'micra': 29, 'vito': 30, 'sprinter': 31, '156': 32, 'escort': 33, 'forester': 34, 'scenic': 35, 'a1': 36, 'combo': 37, 'focus': 38, 'tt': 39, 'a6': 40, 'jazz': 41, 'slk': 42, '7er': 43, '80': 44, '147': 45, 'glk': 46, 'z_reihe': 47, 'v40': 48, 'ibiza': 49, 'mustang': 50, 'eos': 51, 'a4': 52, 'touran': 53, 'getz': 54, 'insignia': 55, 'megane': 56, 'a3': 57, 'lupo': 58, 'r19': 59}\n",
      "{'benzin': 0, 'diesel': 1}\n",
      "{'nein': 0, 'ja': 1}\n"
     ]
    },
    {
     "data": {
      "text/html": [
       "<div>\n",
       "<style scoped>\n",
       "    .dataframe tbody tr th:only-of-type {\n",
       "        vertical-align: middle;\n",
       "    }\n",
       "\n",
       "    .dataframe tbody tr th {\n",
       "        vertical-align: top;\n",
       "    }\n",
       "\n",
       "    .dataframe thead th {\n",
       "        text-align: right;\n",
       "    }\n",
       "</style>\n",
       "<table border=\"1\" class=\"dataframe\">\n",
       "  <thead>\n",
       "    <tr style=\"text-align: right;\">\n",
       "      <th></th>\n",
       "      <th>price</th>\n",
       "      <th>yearOfRegistration</th>\n",
       "      <th>powerPS</th>\n",
       "      <th>kilometer</th>\n",
       "      <th>monthOfRegistration</th>\n",
       "      <th>VEHICLETYPE</th>\n",
       "      <th>GEARBOX</th>\n",
       "      <th>MODEL</th>\n",
       "      <th>FUELTYPE</th>\n",
       "      <th>NOTREPAIREDDAMAGE</th>\n",
       "    </tr>\n",
       "  </thead>\n",
       "  <tbody>\n",
       "    <tr>\n",
       "      <th>3</th>\n",
       "      <td>1500.0</td>\n",
       "      <td>2001.0</td>\n",
       "      <td>75.0</td>\n",
       "      <td>150000.0</td>\n",
       "      <td>6.0</td>\n",
       "      <td>0</td>\n",
       "      <td>0</td>\n",
       "      <td>0</td>\n",
       "      <td>0</td>\n",
       "      <td>0</td>\n",
       "    </tr>\n",
       "    <tr>\n",
       "      <th>4</th>\n",
       "      <td>3600.0</td>\n",
       "      <td>2008.0</td>\n",
       "      <td>69.0</td>\n",
       "      <td>90000.0</td>\n",
       "      <td>7.0</td>\n",
       "      <td>0</td>\n",
       "      <td>0</td>\n",
       "      <td>1</td>\n",
       "      <td>1</td>\n",
       "      <td>0</td>\n",
       "    </tr>\n",
       "    <tr>\n",
       "      <th>5</th>\n",
       "      <td>650.0</td>\n",
       "      <td>1995.0</td>\n",
       "      <td>102.0</td>\n",
       "      <td>150000.0</td>\n",
       "      <td>10.0</td>\n",
       "      <td>1</td>\n",
       "      <td>0</td>\n",
       "      <td>2</td>\n",
       "      <td>0</td>\n",
       "      <td>1</td>\n",
       "    </tr>\n",
       "    <tr>\n",
       "      <th>6</th>\n",
       "      <td>2200.0</td>\n",
       "      <td>2004.0</td>\n",
       "      <td>109.0</td>\n",
       "      <td>150000.0</td>\n",
       "      <td>8.0</td>\n",
       "      <td>2</td>\n",
       "      <td>0</td>\n",
       "      <td>3</td>\n",
       "      <td>0</td>\n",
       "      <td>0</td>\n",
       "    </tr>\n",
       "    <tr>\n",
       "      <th>10</th>\n",
       "      <td>2000.0</td>\n",
       "      <td>2004.0</td>\n",
       "      <td>105.0</td>\n",
       "      <td>150000.0</td>\n",
       "      <td>12.0</td>\n",
       "      <td>1</td>\n",
       "      <td>0</td>\n",
       "      <td>4</td>\n",
       "      <td>0</td>\n",
       "      <td>0</td>\n",
       "    </tr>\n",
       "  </tbody>\n",
       "</table>\n",
       "</div>"
      ],
      "text/plain": [
       "     price  yearOfRegistration  powerPS  kilometer  monthOfRegistration  \\\n",
       "3   1500.0              2001.0     75.0   150000.0                  6.0   \n",
       "4   3600.0              2008.0     69.0    90000.0                  7.0   \n",
       "5    650.0              1995.0    102.0   150000.0                 10.0   \n",
       "6   2200.0              2004.0    109.0   150000.0                  8.0   \n",
       "10  2000.0              2004.0    105.0   150000.0                 12.0   \n",
       "\n",
       "    VEHICLETYPE  GEARBOX  MODEL  FUELTYPE  NOTREPAIREDDAMAGE  \n",
       "3             0        0      0         0                  0  \n",
       "4             0        0      1         1                  0  \n",
       "5             1        0      2         0                  1  \n",
       "6             2        0      3         0                  0  \n",
       "10            1        0      4         0                  0  "
      ]
     },
     "execution_count": 73,
     "metadata": {},
     "output_type": "execute_result"
    }
   ],
   "source": [
    "for column in list1:\n",
    "    mydict={}\n",
    "    unique=data[column].unique()\n",
    "    for i in range(len(unique)):\n",
    "        d={unique[i]:i}\n",
    "        mydict.update(d)\n",
    "    print(mydict)\n",
    "    data[column.upper()]=data[column].replace(mydict)\n",
    "ndata=data.drop((column for column in list1), axis=1)\n",
    "ndata.head()"
   ]
  },
  {
   "cell_type": "code",
   "execution_count": 74,
   "metadata": {},
   "outputs": [
    {
     "name": "stdout",
     "output_type": "stream",
     "text": [
      "Statistics = 0.76710 \n",
      " P-value = 0.00000 \n",
      " Not normal\n"
     ]
    },
    {
     "data": {
      "image/png": "[encoded data removed]",
      "text/plain": [
       "<Figure size 432x288 with 1 Axes>"
      ]
     },
     "metadata": {
      "needs_background": "light"
     },
     "output_type": "display_data"
    }
   ],
   "source": [
    "norm(ndata[\"price\"])"
   ]
  },
  {
   "cell_type": "code",
   "execution_count": 75,
   "metadata": {},
   "outputs": [
    {
     "data": {
      "text/plain": [
       "(149, 10)"
      ]
     },
     "execution_count": 75,
     "metadata": {},
     "output_type": "execute_result"
    }
   ],
   "source": [
    "ndata=ndata[ndata['price']<30000]\n",
    "ndata.shape"
   ]
  },
  {
   "cell_type": "code",
   "execution_count": 76,
   "metadata": {},
   "outputs": [],
   "source": [
    "#ndata.describe()"
   ]
  },
  {
   "cell_type": "code",
   "execution_count": 77,
   "metadata": {},
   "outputs": [
    {
     "name": "stdout",
     "output_type": "stream",
     "text": [
      "Statistics = 0.84119 \n",
      " P-value = 0.00000 \n",
      " Not normal\n"
     ]
    },
    {
     "data": {
      "image/png": "[encoded data removed]",
      "text/plain": [
       "<Figure size 432x288 with 1 Axes>"
      ]
     },
     "metadata": {
      "needs_background": "light"
     },
     "output_type": "display_data"
    }
   ],
   "source": [
    "norm(ndata[\"price\"])"
   ]
  },
  {
   "cell_type": "code",
   "execution_count": 78,
   "metadata": {},
   "outputs": [
    {
     "name": "stdout",
     "output_type": "stream",
     "text": [
      "Statistics = 0.97466 \n",
      " P-value = 0.00740 \n",
      " Not normal\n"
     ]
    },
    {
     "data": {
      "image/png": "[encoded data removed]",
      "text/plain": [
       "<Figure size 432x288 with 1 Axes>"
      ]
     },
     "metadata": {
      "needs_background": "light"
     },
     "output_type": "display_data"
    }
   ],
   "source": [
    "log(ndata[\"price\"])"
   ]
  },
  {
   "cell_type": "code",
   "execution_count": 79,
   "metadata": {},
   "outputs": [
    {
     "data": {
      "text/html": [
       "<div>\n",
       "<style scoped>\n",
       "    .dataframe tbody tr th:only-of-type {\n",
       "        vertical-align: middle;\n",
       "    }\n",
       "\n",
       "    .dataframe tbody tr th {\n",
       "        vertical-align: top;\n",
       "    }\n",
       "\n",
       "    .dataframe thead th {\n",
       "        text-align: right;\n",
       "    }\n",
       "</style>\n",
       "<table border=\"1\" class=\"dataframe\">\n",
       "  <thead>\n",
       "    <tr style=\"text-align: right;\">\n",
       "      <th></th>\n",
       "      <th>yearOfRegistration</th>\n",
       "      <th>powerPS</th>\n",
       "      <th>kilometer</th>\n",
       "      <th>monthOfRegistration</th>\n",
       "      <th>VEHICLETYPE</th>\n",
       "      <th>GEARBOX</th>\n",
       "      <th>MODEL</th>\n",
       "      <th>FUELTYPE</th>\n",
       "      <th>NOTREPAIREDDAMAGE</th>\n",
       "    </tr>\n",
       "  </thead>\n",
       "  <tbody>\n",
       "    <tr>\n",
       "      <th>yearOfRegistration</th>\n",
       "      <td>1.000000</td>\n",
       "      <td>0.183019</td>\n",
       "      <td>-0.254709</td>\n",
       "      <td>-0.017227</td>\n",
       "      <td>-0.030280</td>\n",
       "      <td>0.062116</td>\n",
       "      <td>-0.011176</td>\n",
       "      <td>0.334509</td>\n",
       "      <td>-0.101708</td>\n",
       "    </tr>\n",
       "    <tr>\n",
       "      <th>powerPS</th>\n",
       "      <td>0.183019</td>\n",
       "      <td>1.000000</td>\n",
       "      <td>-0.013006</td>\n",
       "      <td>0.124656</td>\n",
       "      <td>0.207595</td>\n",
       "      <td>0.456608</td>\n",
       "      <td>-0.008668</td>\n",
       "      <td>0.169621</td>\n",
       "      <td>0.011576</td>\n",
       "    </tr>\n",
       "    <tr>\n",
       "      <th>kilometer</th>\n",
       "      <td>-0.254709</td>\n",
       "      <td>-0.013006</td>\n",
       "      <td>1.000000</td>\n",
       "      <td>0.105233</td>\n",
       "      <td>0.150734</td>\n",
       "      <td>0.002822</td>\n",
       "      <td>-0.014349</td>\n",
       "      <td>0.176892</td>\n",
       "      <td>0.077674</td>\n",
       "    </tr>\n",
       "    <tr>\n",
       "      <th>monthOfRegistration</th>\n",
       "      <td>-0.017227</td>\n",
       "      <td>0.124656</td>\n",
       "      <td>0.105233</td>\n",
       "      <td>1.000000</td>\n",
       "      <td>0.044356</td>\n",
       "      <td>0.006439</td>\n",
       "      <td>-0.004445</td>\n",
       "      <td>0.007023</td>\n",
       "      <td>0.106138</td>\n",
       "    </tr>\n",
       "    <tr>\n",
       "      <th>VEHICLETYPE</th>\n",
       "      <td>-0.030280</td>\n",
       "      <td>0.207595</td>\n",
       "      <td>0.150734</td>\n",
       "      <td>0.044356</td>\n",
       "      <td>1.000000</td>\n",
       "      <td>0.042040</td>\n",
       "      <td>-0.018377</td>\n",
       "      <td>0.308621</td>\n",
       "      <td>-0.007459</td>\n",
       "    </tr>\n",
       "    <tr>\n",
       "      <th>GEARBOX</th>\n",
       "      <td>0.062116</td>\n",
       "      <td>0.456608</td>\n",
       "      <td>0.002822</td>\n",
       "      <td>0.006439</td>\n",
       "      <td>0.042040</td>\n",
       "      <td>1.000000</td>\n",
       "      <td>0.000449</td>\n",
       "      <td>0.224908</td>\n",
       "      <td>-0.070059</td>\n",
       "    </tr>\n",
       "    <tr>\n",
       "      <th>MODEL</th>\n",
       "      <td>-0.011176</td>\n",
       "      <td>-0.008668</td>\n",
       "      <td>-0.014349</td>\n",
       "      <td>-0.004445</td>\n",
       "      <td>-0.018377</td>\n",
       "      <td>0.000449</td>\n",
       "      <td>1.000000</td>\n",
       "      <td>0.020536</td>\n",
       "      <td>-0.047614</td>\n",
       "    </tr>\n",
       "    <tr>\n",
       "      <th>FUELTYPE</th>\n",
       "      <td>0.334509</td>\n",
       "      <td>0.169621</td>\n",
       "      <td>0.176892</td>\n",
       "      <td>0.007023</td>\n",
       "      <td>0.308621</td>\n",
       "      <td>0.224908</td>\n",
       "      <td>0.020536</td>\n",
       "      <td>1.000000</td>\n",
       "      <td>0.031563</td>\n",
       "    </tr>\n",
       "    <tr>\n",
       "      <th>NOTREPAIREDDAMAGE</th>\n",
       "      <td>-0.101708</td>\n",
       "      <td>0.011576</td>\n",
       "      <td>0.077674</td>\n",
       "      <td>0.106138</td>\n",
       "      <td>-0.007459</td>\n",
       "      <td>-0.070059</td>\n",
       "      <td>-0.047614</td>\n",
       "      <td>0.031563</td>\n",
       "      <td>1.000000</td>\n",
       "    </tr>\n",
       "  </tbody>\n",
       "</table>\n",
       "</div>"
      ],
      "text/plain": [
       "                     yearOfRegistration   powerPS  kilometer  \\\n",
       "yearOfRegistration             1.000000  0.183019  -0.254709   \n",
       "powerPS                        0.183019  1.000000  -0.013006   \n",
       "kilometer                     -0.254709 -0.013006   1.000000   \n",
       "monthOfRegistration           -0.017227  0.124656   0.105233   \n",
       "VEHICLETYPE                   -0.030280  0.207595   0.150734   \n",
       "GEARBOX                        0.062116  0.456608   0.002822   \n",
       "MODEL                         -0.011176 -0.008668  -0.014349   \n",
       "FUELTYPE                       0.334509  0.169621   0.176892   \n",
       "NOTREPAIREDDAMAGE             -0.101708  0.011576   0.077674   \n",
       "\n",
       "                     monthOfRegistration  VEHICLETYPE   GEARBOX     MODEL  \\\n",
       "yearOfRegistration             -0.017227    -0.030280  0.062116 -0.011176   \n",
       "powerPS                         0.124656     0.207595  0.456608 -0.008668   \n",
       "kilometer                       0.105233     0.150734  0.002822 -0.014349   \n",
       "monthOfRegistration             1.000000     0.044356  0.006439 -0.004445   \n",
       "VEHICLETYPE                     0.044356     1.000000  0.042040 -0.018377   \n",
       "GEARBOX                         0.006439     0.042040  1.000000  0.000449   \n",
       "MODEL                          -0.004445    -0.018377  0.000449  1.000000   \n",
       "FUELTYPE                        0.007023     0.308621  0.224908  0.020536   \n",
       "NOTREPAIREDDAMAGE               0.106138    -0.007459 -0.070059 -0.047614   \n",
       "\n",
       "                     FUELTYPE  NOTREPAIREDDAMAGE  \n",
       "yearOfRegistration   0.334509          -0.101708  \n",
       "powerPS              0.169621           0.011576  \n",
       "kilometer            0.176892           0.077674  \n",
       "monthOfRegistration  0.007023           0.106138  \n",
       "VEHICLETYPE          0.308621          -0.007459  \n",
       "GEARBOX              0.224908          -0.070059  \n",
       "MODEL                0.020536          -0.047614  \n",
       "FUELTYPE             1.000000           0.031563  \n",
       "NOTREPAIREDDAMAGE    0.031563           1.000000  "
      ]
     },
     "execution_count": 79,
     "metadata": {},
     "output_type": "execute_result"
    }
   ],
   "source": [
    "corr(ndata)"
   ]
  },
  {
   "cell_type": "code",
   "execution_count": 80,
   "metadata": {},
   "outputs": [],
   "source": [
    "#X_train, X_test, y_train, y_test = train_test_split(\n",
    "#    X, y, test_size=0.3, random_state=0)"
   ]
  },
  {
   "cell_type": "code",
   "execution_count": 81,
   "metadata": {},
   "outputs": [],
   "source": [
    "#model = LinearRegression()\n",
    "#model.fit(X_train, y_train)"
   ]
  },
  {
   "cell_type": "code",
   "execution_count": 82,
   "metadata": {},
   "outputs": [],
   "source": [
    "#model.score(X_train, y_train)"
   ]
  },
  {
   "cell_type": "code",
   "execution_count": 104,
   "metadata": {},
   "outputs": [
    {
     "name": "stdout",
     "output_type": "stream",
     "text": [
      "R^2 = 0.71\n",
      "            predictor           coef   pvalue\n",
      "0           intercept -301404.356205  0.00033\n",
      "1  yearOfRegistration     154.576925  0.00022\n",
      "2             powerPS      51.426085  0.00000\n",
      "3           kilometer      -0.067628  0.00000\n",
      "4   NOTREPAIREDDAMAGE   -2854.333510  0.00058\n"
     ]
    }
   ],
   "source": [
    "#pandas.DataFrame({'variable':['intercept']+X.columns.tolist(),'coef':[model.intercept_]+model.coef_.tolist()})\n",
    "regression_coef(ndata)"
   ]
  },
  {
   "cell_type": "code",
   "execution_count": 84,
   "metadata": {},
   "outputs": [],
   "source": [
    "ndata=ndata.drop([\"MODEL\",\"GEARBOX\", \"MODEL\", \"FUELTYPE\", \"monthOfRegistration\"], axis=1)"
   ]
  },
  {
   "cell_type": "code",
   "execution_count": 85,
   "metadata": {},
   "outputs": [
    {
     "name": "stdout",
     "output_type": "stream",
     "text": [
      "R^2 = 0.72\n"
     ]
    },
    {
     "data": {
      "text/html": [
       "<div>\n",
       "<style scoped>\n",
       "    .dataframe tbody tr th:only-of-type {\n",
       "        vertical-align: middle;\n",
       "    }\n",
       "\n",
       "    .dataframe tbody tr th {\n",
       "        vertical-align: top;\n",
       "    }\n",
       "\n",
       "    .dataframe thead th {\n",
       "        text-align: right;\n",
       "    }\n",
       "</style>\n",
       "<table border=\"1\" class=\"dataframe\">\n",
       "  <thead>\n",
       "    <tr style=\"text-align: right;\">\n",
       "      <th></th>\n",
       "      <th>predictor</th>\n",
       "      <th>coef</th>\n",
       "      <th>pvalue</th>\n",
       "    </tr>\n",
       "  </thead>\n",
       "  <tbody>\n",
       "    <tr>\n",
       "      <th>0</th>\n",
       "      <td>intercept</td>\n",
       "      <td>-315255.807398</td>\n",
       "      <td>0.00014</td>\n",
       "    </tr>\n",
       "    <tr>\n",
       "      <th>1</th>\n",
       "      <td>yearOfRegistration</td>\n",
       "      <td>161.434214</td>\n",
       "      <td>0.00009</td>\n",
       "    </tr>\n",
       "    <tr>\n",
       "      <th>2</th>\n",
       "      <td>powerPS</td>\n",
       "      <td>49.194667</td>\n",
       "      <td>0.00000</td>\n",
       "    </tr>\n",
       "    <tr>\n",
       "      <th>3</th>\n",
       "      <td>kilometer</td>\n",
       "      <td>-0.070543</td>\n",
       "      <td>0.00000</td>\n",
       "    </tr>\n",
       "    <tr>\n",
       "      <th>4</th>\n",
       "      <td>VEHICLETYPE</td>\n",
       "      <td>355.045439</td>\n",
       "      <td>0.00998</td>\n",
       "    </tr>\n",
       "    <tr>\n",
       "      <th>5</th>\n",
       "      <td>NOTREPAIREDDAMAGE</td>\n",
       "      <td>-2898.509522</td>\n",
       "      <td>0.00038</td>\n",
       "    </tr>\n",
       "  </tbody>\n",
       "</table>\n",
       "</div>"
      ],
      "text/plain": [
       "            predictor           coef   pvalue\n",
       "0           intercept -315255.807398  0.00014\n",
       "1  yearOfRegistration     161.434214  0.00009\n",
       "2             powerPS      49.194667  0.00000\n",
       "3           kilometer      -0.070543  0.00000\n",
       "4         VEHICLETYPE     355.045439  0.00998\n",
       "5   NOTREPAIREDDAMAGE   -2898.509522  0.00038"
      ]
     },
     "execution_count": 85,
     "metadata": {},
     "output_type": "execute_result"
    }
   ],
   "source": [
    "regression_coef(ndata)"
   ]
  },
  {
   "cell_type": "code",
   "execution_count": 86,
   "metadata": {},
   "outputs": [],
   "source": [
    "ndata=ndata.drop([\"VEHICLETYPE\"], axis=1)"
   ]
  },
  {
   "cell_type": "code",
   "execution_count": 105,
   "metadata": {},
   "outputs": [
    {
     "name": "stdout",
     "output_type": "stream",
     "text": [
      "R^2 = 0.71\n",
      "            predictor           coef   pvalue\n",
      "0           intercept -301404.356205  0.00033\n",
      "1  yearOfRegistration     154.576925  0.00022\n",
      "2             powerPS      51.426085  0.00000\n",
      "3           kilometer      -0.067628  0.00000\n",
      "4   NOTREPAIREDDAMAGE   -2854.333510  0.00058\n"
     ]
    }
   ],
   "source": [
    "X_train, X_test, y_train, y_test, model=regression_coef(ndata,True)"
   ]
  },
  {
   "cell_type": "code",
   "execution_count": 106,
   "metadata": {},
   "outputs": [],
   "source": [
    "y_train_pred = model.predict(X_train)\n",
    "y_test_pred = model.predict(X_test)"
   ]
  },
  {
   "cell_type": "code",
   "execution_count": 101,
   "metadata": {},
   "outputs": [
    {
     "data": {
      "text/plain": [
       "(0, 50000)"
      ]
     },
     "execution_count": 101,
     "metadata": {},
     "output_type": "execute_result"
    },
    {
     "data": {
      "image/png": "[encoded data removed]",
      "text/plain": [
       "<Figure size 432x288 with 1 Axes>"
      ]
     },
     "metadata": {
      "needs_background": "light"
     },
     "output_type": "display_data"
    }
   ],
   "source": [
    "plt.xlabel('Предсказание')\n",
    "plt.ylabel('Остатки')\n",
    "plt.scatter(y_train_pred,  y_train_pred - y_train,\n",
    "            c='blue', marker='o', label='Обучение')\n",
    "plt.scatter(y_test_pred,  y_test_pred - y_test,\n",
    "            c='lightgreen', marker='s', label='Тест')\n",
    "plt.legend(loc='upper right')\n",
    "plt.xlim([0, 50000])"
   ]
  },
  {
   "cell_type": "code",
   "execution_count": 102,
   "metadata": {},
   "outputs": [
    {
     "name": "stdout",
     "output_type": "stream",
     "text": [
      "MSE train: 9873431.200, test: 10301363.651\n",
      "MAE train: 2346.811, test: 2363.124\n"
     ]
    }
   ],
   "source": [
    "print('MSE train: {:.3f}, test: {:.3f}'.format(\n",
    "        mean_squared_error(y_train, y_train_pred),\n",
    "        mean_squared_error(y_test, y_test_pred)))\n",
    "print('MAE train: {:.3f}, test: {:.3f}'.format(\n",
    "        mean_absolute_error(y_train, y_train_pred),\n",
    "        mean_absolute_error(y_test, y_test_pred)))"
   ]
  }
 ],
 "metadata": {
  "kernelspec": {
   "display_name": "Python 3",
   "language": "python",
   "name": "python3"
  },
  "language_info": {
   "codemirror_mode": {
    "name": "ipython",
    "version": 3
   },
   "file_extension": ".py",
   "mimetype": "text/x-python",
   "name": "python",
   "nbconvert_exporter": "python",
   "pygments_lexer": "ipython3",
   "version": "3.7.3"
  }
 },
 "nbformat": 4,
 "nbformat_minor": 4
}
